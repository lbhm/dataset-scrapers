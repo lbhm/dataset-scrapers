{
 "cells": [
  {
   "cell_type": "code",
   "execution_count": 1,
   "metadata": {},
   "outputs": [],
   "source": [
    "import os\n",
    "import pandas as pd\n",
    "\n",
    "from copy import copy\n",
    "from openml import datasets\n",
    "from openml.exceptions import OpenMLServerException\n",
    "from tqdm import tqdm"
   ]
  },
  {
   "cell_type": "code",
   "execution_count": 2,
   "metadata": {},
   "outputs": [],
   "source": [
    "base_path = os.getenv('OPENML_BASE')"
   ]
  },
  {
   "cell_type": "markdown",
   "metadata": {},
   "source": [
    "## Data Prep"
   ]
  },
  {
   "cell_type": "code",
   "execution_count": 4,
   "metadata": {},
   "outputs": [],
   "source": [
    "oml_catalog = datasets.list_datasets(output_format=\"dataframe\")\n",
    "# Remove datasets with server errors\n",
    "oml_catalog = oml_catalog[~oml_catalog.did.isin([4537, 4546, 4562, 40864, 41190, 41949])]\n",
    "\n",
    "oml_catalog.to_parquet(os.path.join(base_path, \"oml_catalog.pq\"), index=False)"
   ]
  },
  {
   "cell_type": "code",
   "execution_count": 5,
   "metadata": {},
   "outputs": [
    {
     "name": "stderr",
     "output_type": "stream",
     "text": [
      " 81%|████████  | 3549/4373 [03:48<02:12,  6.24it/s]  WARNING:root:Received uncompressed content from OpenML for https://api.openml.org/data/v1/download/22102184/Nintendo3DS-Games.arff.\n",
      " 83%|████████▎ | 3617/4373 [04:00<02:16,  5.54it/s]WARNING:root:Received uncompressed content from OpenML for https://api.openml.org/data/v1/download/22102254/CERN-Electron-Collision-Data.arff.\n",
      " 83%|████████▎ | 3649/4373 [04:07<02:16,  5.30it/s]WARNING:root:Received uncompressed content from OpenML for https://api.openml.org/data/v1/download/22102287/Riga-real-estate-dataset.arff.\n",
      " 92%|█████████▏| 4030/4373 [05:16<00:57,  5.96it/s]WARNING:root:Received uncompressed content from OpenML for https://api.openml.org/data/v1/download/22102678/Nintendo3DS-Games.arff.\n",
      " 99%|█████████▉| 4345/4373 [06:10<00:04,  6.23it/s]WARNING:root:Received uncompressed content from OpenML for https://api.openml.org/data/v1/download/22106814/Churn_Telco_Europa.arff.\n",
      " 99%|█████████▉| 4346/4373 [06:10<00:09,  2.91it/s]WARNING:root:Received uncompressed content from OpenML for https://api.openml.org/data/v1/download/22106815/Data_Science_Nigeria_Telecoms_Churn.arff.\n",
      " 99%|█████████▉| 4349/4373 [06:12<00:07,  3.20it/s]WARNING:root:Received uncompressed content from OpenML for https://api.openml.org/data/v1/download/22106818/DSN.arff.\n",
      "100%|██████████| 4373/4373 [06:14<00:00, 11.69it/s]\n"
     ]
    }
   ],
   "source": [
    "ds_list = []\n",
    "errors = []\n",
    "\n",
    "for id in tqdm(oml_catalog.did):\n",
    "    try:\n",
    "        ds_list.append(datasets.get_dataset(id, download_qualities=True))\n",
    "    except OpenMLServerException as e:\n",
    "        # Error code for quality information not being available\n",
    "        if e.code == 362:\n",
    "            ds_list.append(datasets.get_dataset(id, download_qualities=False))\n",
    "        else:\n",
    "            errors.append((id, type(e), e.args))\n",
    "    except Exception as e:\n",
    "        errors.append((id, type(e), e.args))\n",
    "    finally:\n",
    "        for id, e, args in errors:\n",
    "            print(f\"{id}: {e}\\n{args}\\n\")"
   ]
  },
  {
   "cell_type": "code",
   "execution_count": 6,
   "metadata": {},
   "outputs": [],
   "source": [
    "md_list = []\n",
    "f_list = []\n",
    "q_list = []\n",
    "t_list = []\n",
    "\n",
    "for ds in ds_list:\n",
    "    metadata = copy(vars(ds))\n",
    "\n",
    "    # List or dict attributes go to separate tables for normalization\n",
    "    features = metadata.pop(\"features\", {})\n",
    "    qualities = metadata.pop(\"qualities\", {})\n",
    "    tags = metadata.pop(\"tag\", [])\n",
    "    creators = metadata.pop(\"creator\", [])\n",
    "    contributors = metadata.pop(\"contributor\", [])\n",
    "    ignore_attributes = metadata.pop(\"ignore_attribute\", [])\n",
    "\n",
    "    if ignore_attributes:\n",
    "        if len(ignore_attributes) == 1:\n",
    "            ignore_attributes = ignore_attributes[0].split(\",\")\n",
    "    else:\n",
    "        ignore_attributes = []\n",
    "\n",
    "    for k, v in features.items():\n",
    "        f = copy(vars(v))\n",
    "        f[\"dataset_id\"] = ds.dataset_id\n",
    "        f[\"ignore\"] = False\n",
    "        if f[\"name\"] in ignore_attributes:\n",
    "            f[\"ignore\"] = True\n",
    "        f_list.append(f)\n",
    "\n",
    "    if qualities is not None:\n",
    "        for k, v in qualities.items():\n",
    "            q_list.append({\"dataset_id\": ds.dataset_id, \"metric\": k, \"value\": v})\n",
    "\n",
    "    if tags is not None:\n",
    "        for t in tags:\n",
    "            t_list.append({\"dataset_id\": ds.dataset_id, \"tag\": t})\n",
    "\n",
    "    # The following attributes do not contain any data\n",
    "    _ = metadata.pop(\"update_comment\", None)\n",
    "    _ = metadata.pop(\"_dataset\", None)\n",
    "    _ = metadata.pop(\"data_pickle_file\", None)\n",
    "    _ = metadata.pop(\"data_feather_file\", None)\n",
    "    _ = metadata.pop(\"feather_attribute_file\", None)\n",
    "\n",
    "    # The following attributes always contain the same data\n",
    "    _ = metadata.pop(\"cache_format\", None)\n",
    "    _ = metadata.pop(\"format\", None)\n",
    "    _ = metadata.pop(\"visibility\", None)\n",
    "\n",
    "    md_list.append(metadata)\n",
    "\n",
    "dataset_df = pd.DataFrame(md_list)\n",
    "feature_df = pd.DataFrame(f_list)\n",
    "quality_df = pd.DataFrame(q_list)\n",
    "tags_df = pd.DataFrame(t_list)\n",
    "\n",
    "col = feature_df.pop(\"dataset_id\")\n",
    "feature_df.insert(0, col.name, col)"
   ]
  },
  {
   "cell_type": "code",
   "execution_count": 7,
   "metadata": {},
   "outputs": [],
   "source": [
    "dataset_df.to_parquet(os.path.join(base_path, \"datasets.pq\"), index=False)\n",
    "feature_df.to_parquet(os.path.join(base_path, \"features.pq\"), index=False)\n",
    "quality_df.to_parquet(os.path.join(base_path, \"metrics.pq\"), index=False)\n",
    "tags_df.to_parquet(os.path.join(base_path, \"tags.pq\"), index=False)\n"
   ]
  },
  {
   "cell_type": "markdown",
   "metadata": {},
   "source": [
    "## Analysis"
   ]
  },
  {
   "cell_type": "code",
   "execution_count": 8,
   "metadata": {},
   "outputs": [
    {
     "name": "stdout",
     "output_type": "stream",
     "text": [
      "<class 'pandas.core.frame.DataFrame'>\n",
      "Int64Index: 4373 entries, 2 to 44256\n",
      "Data columns (total 16 columns):\n",
      " #   Column                              Non-Null Count  Dtype  \n",
      "---  ------                              --------------  -----  \n",
      " 0   did                                 4373 non-null   int64  \n",
      " 1   name                                4373 non-null   object \n",
      " 2   version                             4373 non-null   int64  \n",
      " 3   uploader                            4373 non-null   object \n",
      " 4   status                              4373 non-null   object \n",
      " 5   format                              4373 non-null   object \n",
      " 6   MajorityClassSize                   1563 non-null   float64\n",
      " 7   MaxNominalAttDistinctValues         1401 non-null   float64\n",
      " 8   MinorityClassSize                   1563 non-null   float64\n",
      " 9   NumberOfClasses                     3346 non-null   float64\n",
      " 10  NumberOfFeatures                    4334 non-null   float64\n",
      " 11  NumberOfInstances                   4334 non-null   float64\n",
      " 12  NumberOfInstancesWithMissingValues  4334 non-null   float64\n",
      " 13  NumberOfMissingValues               4334 non-null   float64\n",
      " 14  NumberOfNumericFeatures             4334 non-null   float64\n",
      " 15  NumberOfSymbolicFeatures            4334 non-null   float64\n",
      "dtypes: float64(10), int64(2), object(4)\n",
      "memory usage: 580.8+ KB\n"
     ]
    }
   ],
   "source": [
    "oml_catalog.info()"
   ]
  },
  {
   "cell_type": "code",
   "execution_count": 9,
   "metadata": {},
   "outputs": [
    {
     "name": "stdout",
     "output_type": "stream",
     "text": [
      "<class 'pandas.core.frame.DataFrame'>\n",
      "RangeIndex: 4373 entries, 0 to 4372\n",
      "Data columns (total 19 columns):\n",
      " #   Column                    Non-Null Count  Dtype \n",
      "---  ------                    --------------  ----- \n",
      " 0   dataset_id                4373 non-null   int64 \n",
      " 1   name                      4373 non-null   object\n",
      " 2   version                   4373 non-null   int64 \n",
      " 3   description               4109 non-null   object\n",
      " 4   collection_date           2583 non-null   object\n",
      " 5   upload_date               4373 non-null   object\n",
      " 6   language                  1361 non-null   object\n",
      " 7   licence                   4373 non-null   object\n",
      " 8   url                       4373 non-null   object\n",
      " 9   default_target_attribute  3493 non-null   object\n",
      " 10  row_id_attribute          1186 non-null   object\n",
      " 11  version_label             1191 non-null   object\n",
      " 12  citation                  676 non-null    object\n",
      " 13  original_data_url         1751 non-null   object\n",
      " 14  paper_url                 289 non-null    object\n",
      " 15  md5_checksum              4373 non-null   object\n",
      " 16  data_file                 4373 non-null   object\n",
      " 17  parquet_file              1810 non-null   object\n",
      " 18  _minio_url                3224 non-null   object\n",
      "dtypes: int64(2), object(17)\n",
      "memory usage: 649.2+ KB\n"
     ]
    }
   ],
   "source": [
    "dataset_df.info()"
   ]
  },
  {
   "cell_type": "code",
   "execution_count": 10,
   "metadata": {},
   "outputs": [
    {
     "name": "stdout",
     "output_type": "stream",
     "text": [
      "<class 'pandas.core.frame.DataFrame'>\n",
      "RangeIndex: 4158111 entries, 0 to 4158110\n",
      "Data columns (total 7 columns):\n",
      " #   Column                 Dtype \n",
      "---  ------                 ----- \n",
      " 0   dataset_id             int64 \n",
      " 1   index                  int64 \n",
      " 2   name                   object\n",
      " 3   data_type              object\n",
      " 4   nominal_values         object\n",
      " 5   number_missing_values  int64 \n",
      " 6   ignore                 bool  \n",
      "dtypes: bool(1), int64(3), object(3)\n",
      "memory usage: 194.3+ MB\n"
     ]
    }
   ],
   "source": [
    "feature_df.info()"
   ]
  },
  {
   "cell_type": "code",
   "execution_count": 11,
   "metadata": {},
   "outputs": [],
   "source": [
    "features_cleansed = feature_df[ \\\n",
    "    ~feature_df.name.str.contains(\"^oz[1-9][0-9]?[0-9]?$\") & \\\n",
    "    ~feature_df.name.str.contains(\"^V[0-9][0-9]?[0-9]?$\") & \\\n",
    "    ~feature_df.name.str.contains(\"^col_[0-9][0-9]?[0-9]?$\") & \\\n",
    "    ~feature_df.name.str.contains(\"AFFX-\") & \\\n",
    "    ~feature_df.name.str.contains(\"Var\\d{0,7}\") & \\\n",
    "    ~feature_df.name.str.contains(\"att_\\d{0,7}\") & \\\n",
    "    ~feature_df.name.str.contains(\"^\\d+$\") & \\\n",
    "    ~feature_df.name.str.contains(\"\\d{2,7}(?:_\\w*)?_at$\")\n",
    "].merge(dataset_df[~dataset_df.name.str.startswith(\"QSAR-TID\")].dataset_id, how=\"right\", on=\"dataset_id\")"
   ]
  },
  {
   "cell_type": "code",
   "execution_count": 12,
   "metadata": {},
   "outputs": [],
   "source": [
    "feature_count = features_cleansed.groupby(\"name\")[\"dataset_id\"].count()"
   ]
  },
  {
   "cell_type": "code",
   "execution_count": 13,
   "metadata": {},
   "outputs": [],
   "source": [
    "feature_count.sort_values(ascending=False).to_csv(os.path.join(base_path, \"feature_count.csv\"), header=[\"count\"])"
   ]
  },
  {
   "cell_type": "code",
   "execution_count": 14,
   "metadata": {},
   "outputs": [
    {
     "data": {
      "text/html": [
       "<div>\n",
       "<style scoped>\n",
       "    .dataframe tbody tr th:only-of-type {\n",
       "        vertical-align: middle;\n",
       "    }\n",
       "\n",
       "    .dataframe tbody tr th {\n",
       "        vertical-align: top;\n",
       "    }\n",
       "\n",
       "    .dataframe thead th {\n",
       "        text-align: right;\n",
       "    }\n",
       "</style>\n",
       "<table border=\"1\" class=\"dataframe\">\n",
       "  <thead>\n",
       "    <tr style=\"text-align: right;\">\n",
       "      <th></th>\n",
       "      <th>dataset_id</th>\n",
       "      <th>index</th>\n",
       "      <th>name</th>\n",
       "      <th>data_type</th>\n",
       "      <th>nominal_values</th>\n",
       "      <th>number_missing_values</th>\n",
       "      <th>ignore</th>\n",
       "    </tr>\n",
       "  </thead>\n",
       "  <tbody>\n",
       "    <tr>\n",
       "      <th>0</th>\n",
       "      <td>2</td>\n",
       "      <td>0.0</td>\n",
       "      <td>family</td>\n",
       "      <td>nominal</td>\n",
       "      <td>[GB, GK, GS, TN, ZA, ZF, ZH, ZM, ZS]</td>\n",
       "      <td>772.0</td>\n",
       "      <td>False</td>\n",
       "    </tr>\n",
       "    <tr>\n",
       "      <th>1</th>\n",
       "      <td>2</td>\n",
       "      <td>1.0</td>\n",
       "      <td>product-type</td>\n",
       "      <td>nominal</td>\n",
       "      <td>[C, G, H]</td>\n",
       "      <td>0.0</td>\n",
       "      <td>False</td>\n",
       "    </tr>\n",
       "    <tr>\n",
       "      <th>2</th>\n",
       "      <td>2</td>\n",
       "      <td>2.0</td>\n",
       "      <td>steel</td>\n",
       "      <td>nominal</td>\n",
       "      <td>[A, K, M, R, S, U, V, W]</td>\n",
       "      <td>86.0</td>\n",
       "      <td>False</td>\n",
       "    </tr>\n",
       "    <tr>\n",
       "      <th>3</th>\n",
       "      <td>2</td>\n",
       "      <td>3.0</td>\n",
       "      <td>carbon</td>\n",
       "      <td>numeric</td>\n",
       "      <td>None</td>\n",
       "      <td>0.0</td>\n",
       "      <td>False</td>\n",
       "    </tr>\n",
       "    <tr>\n",
       "      <th>4</th>\n",
       "      <td>2</td>\n",
       "      <td>4.0</td>\n",
       "      <td>hardness</td>\n",
       "      <td>numeric</td>\n",
       "      <td>None</td>\n",
       "      <td>0.0</td>\n",
       "      <td>False</td>\n",
       "    </tr>\n",
       "    <tr>\n",
       "      <th>...</th>\n",
       "      <td>...</td>\n",
       "      <td>...</td>\n",
       "      <td>...</td>\n",
       "      <td>...</td>\n",
       "      <td>...</td>\n",
       "      <td>...</td>\n",
       "      <td>...</td>\n",
       "    </tr>\n",
       "    <tr>\n",
       "      <th>1324711</th>\n",
       "      <td>44255</td>\n",
       "      <td>1.0</td>\n",
       "      <td>CATEGORY</td>\n",
       "      <td>string</td>\n",
       "      <td>None</td>\n",
       "      <td>0.0</td>\n",
       "      <td>False</td>\n",
       "    </tr>\n",
       "    <tr>\n",
       "      <th>1324712</th>\n",
       "      <td>44255</td>\n",
       "      <td>2.0</td>\n",
       "      <td>SUPER_CATEGORY</td>\n",
       "      <td>numeric</td>\n",
       "      <td>None</td>\n",
       "      <td>800.0</td>\n",
       "      <td>False</td>\n",
       "    </tr>\n",
       "    <tr>\n",
       "      <th>1324713</th>\n",
       "      <td>44256</td>\n",
       "      <td>0.0</td>\n",
       "      <td>FILE_NAME</td>\n",
       "      <td>string</td>\n",
       "      <td>None</td>\n",
       "      <td>0.0</td>\n",
       "      <td>False</td>\n",
       "    </tr>\n",
       "    <tr>\n",
       "      <th>1324714</th>\n",
       "      <td>44256</td>\n",
       "      <td>1.0</td>\n",
       "      <td>CATEGORY</td>\n",
       "      <td>string</td>\n",
       "      <td>None</td>\n",
       "      <td>0.0</td>\n",
       "      <td>False</td>\n",
       "    </tr>\n",
       "    <tr>\n",
       "      <th>1324715</th>\n",
       "      <td>44256</td>\n",
       "      <td>2.0</td>\n",
       "      <td>SUPER_CATEGORY</td>\n",
       "      <td>string</td>\n",
       "      <td>None</td>\n",
       "      <td>0.0</td>\n",
       "      <td>False</td>\n",
       "    </tr>\n",
       "  </tbody>\n",
       "</table>\n",
       "<p>1324716 rows × 7 columns</p>\n",
       "</div>"
      ],
      "text/plain": [
       "         dataset_id  index            name data_type  \\\n",
       "0                 2    0.0          family   nominal   \n",
       "1                 2    1.0    product-type   nominal   \n",
       "2                 2    2.0           steel   nominal   \n",
       "3                 2    3.0          carbon   numeric   \n",
       "4                 2    4.0        hardness   numeric   \n",
       "...             ...    ...             ...       ...   \n",
       "1324711       44255    1.0        CATEGORY    string   \n",
       "1324712       44255    2.0  SUPER_CATEGORY   numeric   \n",
       "1324713       44256    0.0       FILE_NAME    string   \n",
       "1324714       44256    1.0        CATEGORY    string   \n",
       "1324715       44256    2.0  SUPER_CATEGORY    string   \n",
       "\n",
       "                               nominal_values  number_missing_values ignore  \n",
       "0        [GB, GK, GS, TN, ZA, ZF, ZH, ZM, ZS]                  772.0  False  \n",
       "1                                   [C, G, H]                    0.0  False  \n",
       "2                    [A, K, M, R, S, U, V, W]                   86.0  False  \n",
       "3                                        None                    0.0  False  \n",
       "4                                        None                    0.0  False  \n",
       "...                                       ...                    ...    ...  \n",
       "1324711                                  None                    0.0  False  \n",
       "1324712                                  None                  800.0  False  \n",
       "1324713                                  None                    0.0  False  \n",
       "1324714                                  None                    0.0  False  \n",
       "1324715                                  None                    0.0  False  \n",
       "\n",
       "[1324716 rows x 7 columns]"
      ]
     },
     "execution_count": 14,
     "metadata": {},
     "output_type": "execute_result"
    }
   ],
   "source": [
    "features_cleansed"
   ]
  }
 ],
 "metadata": {
  "kernelspec": {
   "display_name": "Python 3.8.10 ('venv': venv)",
   "language": "python",
   "name": "python3"
  },
  "language_info": {
   "codemirror_mode": {
    "name": "ipython",
    "version": 3
   },
   "file_extension": ".py",
   "mimetype": "text/x-python",
   "name": "python",
   "nbconvert_exporter": "python",
   "pygments_lexer": "ipython3",
   "version": "3.8.10"
  },
  "orig_nbformat": 4,
  "vscode": {
   "interpreter": {
    "hash": "b4a74a789ae47abb9658db4fb4d453dea88cdb88ef78a0e58a1212cd381c3208"
   }
  }
 },
 "nbformat": 4,
 "nbformat_minor": 2
}
