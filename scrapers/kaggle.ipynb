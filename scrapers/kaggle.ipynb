{
 "cells": [
  {
   "cell_type": "markdown",
   "metadata": {},
   "source": [
    "# Kaggle Datasets Scraper"
   ]
  },
  {
   "cell_type": "code",
   "execution_count": 1,
   "metadata": {},
   "outputs": [],
   "source": [
    "import time\n",
    "import kaggle\n",
    "import pandas as pd\n",
    "import tqdm\n",
    "import pickle\n",
    "\n",
    "kaggle.api.authenticate()"
   ]
  },
  {
   "cell_type": "code",
   "execution_count": 3,
   "metadata": {},
   "outputs": [],
   "source": [
    "errors = pickle.load(open(\"../data/kaggle_errors.pkl\", \"rb\"))"
   ]
  },
  {
   "cell_type": "code",
   "execution_count": 5,
   "metadata": {},
   "outputs": [
    {
     "name": "stderr",
     "output_type": "stream",
     "text": [
      "  1%|          | 1/162 [00:00<02:02,  1.32it/s]"
     ]
    },
    {
     "name": "stdout",
     "output_type": "stream",
     "text": [
      "Warning: Looks like you're using an outdated API Version, please consider updating (server 1.6.11 / client 1.6.6)\n"
     ]
    },
    {
     "name": "stderr",
     "output_type": "stream",
     "text": [
      "100%|██████████| 162/162 [02:23<00:00,  1.13it/s]\n"
     ]
    }
   ],
   "source": [
    "metadata = []\n",
    "errors_2 = []\n",
    "for user, e in tqdm.tqdm(errors):\n",
    "    try:\n",
    "        page = 1\n",
    "        while True:\n",
    "            results = kaggle.api.dataset_list(\n",
    "                sort_by=\"hottest\",\n",
    "                file_type=\"csv\",\n",
    "                license_name=\"all\",\n",
    "                user=user,\n",
    "                page=page,\n",
    "            )\n",
    "            if len(results) >= 1:\n",
    "                metadata.extend(results)\n",
    "            if len(results) < 10:\n",
    "                break\n",
    "\n",
    "            page += 1\n",
    "            if page > 500:\n",
    "                print(\n",
    "                    f\"User {user} has more than 10000 datasets. The API won't show all of them.\"\n",
    "                )\n",
    "\n",
    "            time.sleep(0.1)\n",
    "    except kaggle.rest.ApiException as e:\n",
    "        if e.reason == \"Unauthorized\":\n",
    "            raise e\n",
    "        else:\n",
    "            errors_2.append((user, e))"
   ]
  },
  {
   "cell_type": "code",
   "execution_count": 4,
   "metadata": {},
   "outputs": [],
   "source": [
    "md = pickle.load(open(\"../data/kaggle_metadata.pkl\", \"rb\"))"
   ]
  },
  {
   "cell_type": "code",
   "execution_count": 5,
   "metadata": {},
   "outputs": [],
   "source": [
    "profiles = pd.DataFrame([profile.__dict__ for profile in md])"
   ]
  },
  {
   "cell_type": "code",
   "execution_count": 6,
   "metadata": {},
   "outputs": [
    {
     "name": "stdout",
     "output_type": "stream",
     "text": [
      "<class 'pandas.core.frame.DataFrame'>\n",
      "RangeIndex: 138388 entries, 0 to 138387\n",
      "Data columns (total 50 columns):\n",
      " #   Column                        Non-Null Count   Dtype         \n",
      "---  ------                        --------------   -----         \n",
      " 0   subtitleNullable              138388 non-null  object        \n",
      " 1   creatorNameNullable           138388 non-null  object        \n",
      " 2   creatorUrlNullable            138388 non-null  object        \n",
      " 3   totalBytesNullable            138388 non-null  int64         \n",
      " 4   urlNullable                   138388 non-null  object        \n",
      " 5   licenseNameNullable           138388 non-null  object        \n",
      " 6   descriptionNullable           0 non-null       object        \n",
      " 7   ownerNameNullable             138388 non-null  object        \n",
      " 8   ownerRefNullable              138388 non-null  object        \n",
      " 9   titleNullable                 138388 non-null  object        \n",
      " 10  currentVersionNumberNullable  138388 non-null  int64         \n",
      " 11  usabilityRatingNullable       138382 non-null  float64       \n",
      " 12  id                            138388 non-null  int64         \n",
      " 13  ref                           138388 non-null  object        \n",
      " 14  subtitle                      138388 non-null  object        \n",
      " 15  hasSubtitle                   138388 non-null  bool          \n",
      " 16  creatorName                   138388 non-null  object        \n",
      " 17  hasCreatorName                138388 non-null  bool          \n",
      " 18  creatorUrl                    138388 non-null  object        \n",
      " 19  hasCreatorUrl                 138388 non-null  bool          \n",
      " 20  totalBytes                    138388 non-null  int64         \n",
      " 21  hasTotalBytes                 138388 non-null  bool          \n",
      " 22  url                           138388 non-null  object        \n",
      " 23  hasUrl                        138388 non-null  bool          \n",
      " 24  lastUpdated                   138388 non-null  datetime64[ns]\n",
      " 25  downloadCount                 138388 non-null  int64         \n",
      " 26  isPrivate                     138388 non-null  bool          \n",
      " 27  isFeatured                    138388 non-null  bool          \n",
      " 28  licenseName                   138388 non-null  object        \n",
      " 29  hasLicenseName                138388 non-null  bool          \n",
      " 30  description                   138388 non-null  object        \n",
      " 31  hasDescription                138388 non-null  bool          \n",
      " 32  ownerName                     138388 non-null  object        \n",
      " 33  hasOwnerName                  138388 non-null  bool          \n",
      " 34  ownerRef                      138388 non-null  object        \n",
      " 35  hasOwnerRef                   138388 non-null  bool          \n",
      " 36  kernelCount                   138388 non-null  int64         \n",
      " 37  title                         138388 non-null  object        \n",
      " 38  hasTitle                      138388 non-null  bool          \n",
      " 39  topicCount                    138388 non-null  int64         \n",
      " 40  viewCount                     138388 non-null  int64         \n",
      " 41  voteCount                     138388 non-null  int64         \n",
      " 42  currentVersionNumber          138388 non-null  int64         \n",
      " 43  hasCurrentVersionNumber       138388 non-null  bool          \n",
      " 44  usabilityRating               138388 non-null  float64       \n",
      " 45  hasUsabilityRating            138388 non-null  bool          \n",
      " 46  tags                          138388 non-null  object        \n",
      " 47  files                         138388 non-null  object        \n",
      " 48  versions                      138388 non-null  object        \n",
      " 49  size                          138388 non-null  object        \n",
      "dtypes: bool(14), datetime64[ns](1), float64(2), int64(10), object(23)\n",
      "memory usage: 39.9+ MB\n"
     ]
    }
   ],
   "source": [
    "profiles.info()"
   ]
  },
  {
   "cell_type": "code",
   "execution_count": 30,
   "metadata": {},
   "outputs": [
    {
     "data": {
      "text/plain": [
       "<Axes: >"
      ]
     },
     "execution_count": 30,
     "metadata": {},
     "output_type": "execute_result"
    },
    {
     "data": {
      "image/png": "[encoded data removed]",
      "text/plain": [
       "<Figure size 640x480 with 1 Axes>"
      ]
     },
     "metadata": {},
     "output_type": "display_data"
    }
   ],
   "source": [
    "profiles.usabilityRating.hist()"
   ]
  },
  {
   "cell_type": "code",
   "execution_count": 41,
   "metadata": {},
   "outputs": [
    {
     "data": {
      "text/html": [
       "<div>\n",
       "<style scoped>\n",
       "    .dataframe tbody tr th:only-of-type {\n",
       "        vertical-align: middle;\n",
       "    }\n",
       "\n",
       "    .dataframe tbody tr th {\n",
       "        vertical-align: top;\n",
       "    }\n",
       "\n",
       "    .dataframe thead th {\n",
       "        text-align: right;\n",
       "    }\n",
       "</style>\n",
       "<table border=\"1\" class=\"dataframe\">\n",
       "  <thead>\n",
       "    <tr style=\"text-align: right;\">\n",
       "      <th></th>\n",
       "      <th>subtitleNullable</th>\n",
       "      <th>creatorNameNullable</th>\n",
       "      <th>creatorUrlNullable</th>\n",
       "      <th>totalBytesNullable</th>\n",
       "      <th>urlNullable</th>\n",
       "      <th>licenseNameNullable</th>\n",
       "      <th>descriptionNullable</th>\n",
       "      <th>ownerNameNullable</th>\n",
       "      <th>ownerRefNullable</th>\n",
       "      <th>titleNullable</th>\n",
       "      <th>...</th>\n",
       "      <th>viewCount</th>\n",
       "      <th>voteCount</th>\n",
       "      <th>currentVersionNumber</th>\n",
       "      <th>hasCurrentVersionNumber</th>\n",
       "      <th>usabilityRating</th>\n",
       "      <th>hasUsabilityRating</th>\n",
       "      <th>tags</th>\n",
       "      <th>files</th>\n",
       "      <th>versions</th>\n",
       "      <th>size</th>\n",
       "    </tr>\n",
       "  </thead>\n",
       "  <tbody>\n",
       "    <tr>\n",
       "      <th>23918</th>\n",
       "      <td></td>\n",
       "      <td>Phil Culliton</td>\n",
       "      <td>philculliton</td>\n",
       "      <td>397703475831</td>\n",
       "      <td>https://www.kaggle.com/datasets/philculliton/h...</td>\n",
       "      <td>Unknown</td>\n",
       "      <td>None</td>\n",
       "      <td>Phil Culliton</td>\n",
       "      <td>philculliton</td>\n",
       "      <td>HPA 2020 16-Bit Training Set</td>\n",
       "      <td>...</td>\n",
       "      <td>11721</td>\n",
       "      <td>25</td>\n",
       "      <td>2</td>\n",
       "      <td>True</td>\n",
       "      <td>0.176471</td>\n",
       "      <td>True</td>\n",
       "      <td>[]</td>\n",
       "      <td>[]</td>\n",
       "      <td>[]</td>\n",
       "      <td>370GB</td>\n",
       "    </tr>\n",
       "    <tr>\n",
       "      <th>32123</th>\n",
       "      <td></td>\n",
       "      <td>Amin</td>\n",
       "      <td>amiiiney</td>\n",
       "      <td>107263381778</td>\n",
       "      <td>https://www.kaggle.com/datasets/amiiiney/dfl-v...</td>\n",
       "      <td>Unknown</td>\n",
       "      <td>None</td>\n",
       "      <td>Amin</td>\n",
       "      <td>amiiiney</td>\n",
       "      <td>DFL: Video frames 360x660</td>\n",
       "      <td>...</td>\n",
       "      <td>484</td>\n",
       "      <td>3</td>\n",
       "      <td>1</td>\n",
       "      <td>True</td>\n",
       "      <td>0.235294</td>\n",
       "      <td>True</td>\n",
       "      <td>[arts and entertainment]</td>\n",
       "      <td>[]</td>\n",
       "      <td>[]</td>\n",
       "      <td>100GB</td>\n",
       "    </tr>\n",
       "    <tr>\n",
       "      <th>87100</th>\n",
       "      <td></td>\n",
       "      <td>QwertyNice</td>\n",
       "      <td>dmitrygaus</td>\n",
       "      <td>107133985785</td>\n",
       "      <td>https://www.kaggle.com/datasets/dmitrygaus/gig...</td>\n",
       "      <td>Unknown</td>\n",
       "      <td>None</td>\n",
       "      <td>QwertyNice</td>\n",
       "      <td>dmitrygaus</td>\n",
       "      <td>GigaFlexhicle Dataset</td>\n",
       "      <td>...</td>\n",
       "      <td>2807</td>\n",
       "      <td>16</td>\n",
       "      <td>1</td>\n",
       "      <td>True</td>\n",
       "      <td>0.470588</td>\n",
       "      <td>True</td>\n",
       "      <td>[automobiles and vehicles, computer vision, cl...</td>\n",
       "      <td>[]</td>\n",
       "      <td>[]</td>\n",
       "      <td>100GB</td>\n",
       "    </tr>\n",
       "    <tr>\n",
       "      <th>71665</th>\n",
       "      <td></td>\n",
       "      <td>alexpls</td>\n",
       "      <td>alexpls</td>\n",
       "      <td>105008334554</td>\n",
       "      <td>https://www.kaggle.com/datasets/alexpls/herita...</td>\n",
       "      <td>Unknown</td>\n",
       "      <td>None</td>\n",
       "      <td>alexpls</td>\n",
       "      <td>alexpls</td>\n",
       "      <td>Heritage Recognition 2022 v2</td>\n",
       "      <td>...</td>\n",
       "      <td>755</td>\n",
       "      <td>1</td>\n",
       "      <td>1</td>\n",
       "      <td>True</td>\n",
       "      <td>0.117647</td>\n",
       "      <td>True</td>\n",
       "      <td>[]</td>\n",
       "      <td>[]</td>\n",
       "      <td>[]</td>\n",
       "      <td>98GB</td>\n",
       "    </tr>\n",
       "    <tr>\n",
       "      <th>29448</th>\n",
       "      <td></td>\n",
       "      <td>XingJian Lyu</td>\n",
       "      <td>roguekk007</td>\n",
       "      <td>103635633809</td>\n",
       "      <td>https://www.kaggle.com/datasets/roguekk007/gld...</td>\n",
       "      <td>CC0: Public Domain</td>\n",
       "      <td>None</td>\n",
       "      <td>XingJian Lyu</td>\n",
       "      <td>roguekk007</td>\n",
       "      <td>GLDv2TFRecords</td>\n",
       "      <td>...</td>\n",
       "      <td>89</td>\n",
       "      <td>1</td>\n",
       "      <td>1</td>\n",
       "      <td>True</td>\n",
       "      <td>0.250000</td>\n",
       "      <td>True</td>\n",
       "      <td>[]</td>\n",
       "      <td>[]</td>\n",
       "      <td>[]</td>\n",
       "      <td>97GB</td>\n",
       "    </tr>\n",
       "    <tr>\n",
       "      <th>55623</th>\n",
       "      <td></td>\n",
       "      <td>Nikita Glazunov</td>\n",
       "      <td>nikitaglazunov</td>\n",
       "      <td>102003538871</td>\n",
       "      <td>https://www.kaggle.com/datasets/nikitaglazunov...</td>\n",
       "      <td>Unknown</td>\n",
       "      <td>None</td>\n",
       "      <td>Nikita Glazunov</td>\n",
       "      <td>nikitaglazunov</td>\n",
       "      <td>mayo_images_part1</td>\n",
       "      <td>...</td>\n",
       "      <td>210</td>\n",
       "      <td>0</td>\n",
       "      <td>1</td>\n",
       "      <td>True</td>\n",
       "      <td>0.176471</td>\n",
       "      <td>True</td>\n",
       "      <td>[]</td>\n",
       "      <td>[]</td>\n",
       "      <td>[]</td>\n",
       "      <td>95GB</td>\n",
       "    </tr>\n",
       "    <tr>\n",
       "      <th>6103</th>\n",
       "      <td></td>\n",
       "      <td>WillArevalo</td>\n",
       "      <td>willarevalo</td>\n",
       "      <td>96875952309</td>\n",
       "      <td>https://www.kaggle.com/datasets/willarevalo/re...</td>\n",
       "      <td>Unknown</td>\n",
       "      <td>None</td>\n",
       "      <td>WillArevalo</td>\n",
       "      <td>willarevalo</td>\n",
       "      <td>retinopathy_btgraham300</td>\n",
       "      <td>...</td>\n",
       "      <td>1499</td>\n",
       "      <td>3</td>\n",
       "      <td>1</td>\n",
       "      <td>True</td>\n",
       "      <td>0.187500</td>\n",
       "      <td>True</td>\n",
       "      <td>[]</td>\n",
       "      <td>[]</td>\n",
       "      <td>[]</td>\n",
       "      <td>90GB</td>\n",
       "    </tr>\n",
       "    <tr>\n",
       "      <th>50543</th>\n",
       "      <td>512x512 with overlap of 256x256</td>\n",
       "      <td>Yuri Dias Meira</td>\n",
       "      <td>ydmeira</td>\n",
       "      <td>96462261060</td>\n",
       "      <td>https://www.kaggle.com/datasets/ydmeira/hubmap...</td>\n",
       "      <td>CC BY-SA 4.0</td>\n",
       "      <td>None</td>\n",
       "      <td>Yuri Dias Meira</td>\n",
       "      <td>ydmeira</td>\n",
       "      <td>TFRecords for HuBMAP Dataset</td>\n",
       "      <td>...</td>\n",
       "      <td>912</td>\n",
       "      <td>0</td>\n",
       "      <td>1</td>\n",
       "      <td>True</td>\n",
       "      <td>0.352941</td>\n",
       "      <td>True</td>\n",
       "      <td>[]</td>\n",
       "      <td>[]</td>\n",
       "      <td>[]</td>\n",
       "      <td>90GB</td>\n",
       "    </tr>\n",
       "    <tr>\n",
       "      <th>67839</th>\n",
       "      <td></td>\n",
       "      <td>bastien nes</td>\n",
       "      <td>bastiennes</td>\n",
       "      <td>94299962133</td>\n",
       "      <td>https://www.kaggle.com/datasets/bastiennes/dat...</td>\n",
       "      <td>Unknown</td>\n",
       "      <td>None</td>\n",
       "      <td>bastien nes</td>\n",
       "      <td>bastiennes</td>\n",
       "      <td>dataset</td>\n",
       "      <td>...</td>\n",
       "      <td>348</td>\n",
       "      <td>1</td>\n",
       "      <td>3</td>\n",
       "      <td>True</td>\n",
       "      <td>0.125000</td>\n",
       "      <td>True</td>\n",
       "      <td>[]</td>\n",
       "      <td>[]</td>\n",
       "      <td>[]</td>\n",
       "      <td>88GB</td>\n",
       "    </tr>\n",
       "    <tr>\n",
       "      <th>54096</th>\n",
       "      <td>The first-ever generative modeling dataset for...</td>\n",
       "      <td>Ching-Yuan Bai</td>\n",
       "      <td>andrewcybai</td>\n",
       "      <td>93845035418</td>\n",
       "      <td>https://www.kaggle.com/datasets/andrewcybai/ge...</td>\n",
       "      <td>CC BY-SA 4.0</td>\n",
       "      <td>None</td>\n",
       "      <td>Ching-Yuan Bai</td>\n",
       "      <td>andrewcybai</td>\n",
       "      <td>Generative Dog Images</td>\n",
       "      <td>...</td>\n",
       "      <td>1863</td>\n",
       "      <td>3</td>\n",
       "      <td>1</td>\n",
       "      <td>True</td>\n",
       "      <td>0.941176</td>\n",
       "      <td>True</td>\n",
       "      <td>[arts and entertainment, earth and nature]</td>\n",
       "      <td>[]</td>\n",
       "      <td>[]</td>\n",
       "      <td>87GB</td>\n",
       "    </tr>\n",
       "  </tbody>\n",
       "</table>\n",
       "<p>10 rows × 50 columns</p>\n",
       "</div>"
      ],
      "text/plain": [
       "                                        subtitleNullable creatorNameNullable  \\\n",
       "23918                                                          Phil Culliton   \n",
       "32123                                                                   Amin   \n",
       "87100                                                             QwertyNice   \n",
       "71665                                                                alexpls   \n",
       "29448                                                           XingJian Lyu   \n",
       "55623                                                        Nikita Glazunov   \n",
       "6103                                                             WillArevalo   \n",
       "50543                    512x512 with overlap of 256x256     Yuri Dias Meira   \n",
       "67839                                                            bastien nes   \n",
       "54096  The first-ever generative modeling dataset for...      Ching-Yuan Bai   \n",
       "\n",
       "      creatorUrlNullable  totalBytesNullable  \\\n",
       "23918       philculliton        397703475831   \n",
       "32123           amiiiney        107263381778   \n",
       "87100         dmitrygaus        107133985785   \n",
       "71665            alexpls        105008334554   \n",
       "29448         roguekk007        103635633809   \n",
       "55623     nikitaglazunov        102003538871   \n",
       "6103         willarevalo         96875952309   \n",
       "50543            ydmeira         96462261060   \n",
       "67839         bastiennes         94299962133   \n",
       "54096        andrewcybai         93845035418   \n",
       "\n",
       "                                             urlNullable licenseNameNullable  \\\n",
       "23918  https://www.kaggle.com/datasets/philculliton/h...             Unknown   \n",
       "32123  https://www.kaggle.com/datasets/amiiiney/dfl-v...             Unknown   \n",
       "87100  https://www.kaggle.com/datasets/dmitrygaus/gig...             Unknown   \n",
       "71665  https://www.kaggle.com/datasets/alexpls/herita...             Unknown   \n",
       "29448  https://www.kaggle.com/datasets/roguekk007/gld...  CC0: Public Domain   \n",
       "55623  https://www.kaggle.com/datasets/nikitaglazunov...             Unknown   \n",
       "6103   https://www.kaggle.com/datasets/willarevalo/re...             Unknown   \n",
       "50543  https://www.kaggle.com/datasets/ydmeira/hubmap...        CC BY-SA 4.0   \n",
       "67839  https://www.kaggle.com/datasets/bastiennes/dat...             Unknown   \n",
       "54096  https://www.kaggle.com/datasets/andrewcybai/ge...        CC BY-SA 4.0   \n",
       "\n",
       "      descriptionNullable ownerNameNullable ownerRefNullable  \\\n",
       "23918                None     Phil Culliton     philculliton   \n",
       "32123                None              Amin         amiiiney   \n",
       "87100                None        QwertyNice       dmitrygaus   \n",
       "71665                None           alexpls          alexpls   \n",
       "29448                None      XingJian Lyu       roguekk007   \n",
       "55623                None   Nikita Glazunov   nikitaglazunov   \n",
       "6103                 None       WillArevalo      willarevalo   \n",
       "50543                None   Yuri Dias Meira          ydmeira   \n",
       "67839                None       bastien nes       bastiennes   \n",
       "54096                None    Ching-Yuan Bai      andrewcybai   \n",
       "\n",
       "                      titleNullable  ...  viewCount  voteCount  \\\n",
       "23918  HPA 2020 16-Bit Training Set  ...      11721         25   \n",
       "32123     DFL: Video frames 360x660  ...        484          3   \n",
       "87100         GigaFlexhicle Dataset  ...       2807         16   \n",
       "71665  Heritage Recognition 2022 v2  ...        755          1   \n",
       "29448                GLDv2TFRecords  ...         89          1   \n",
       "55623             mayo_images_part1  ...        210          0   \n",
       "6103        retinopathy_btgraham300  ...       1499          3   \n",
       "50543  TFRecords for HuBMAP Dataset  ...        912          0   \n",
       "67839                       dataset  ...        348          1   \n",
       "54096         Generative Dog Images  ...       1863          3   \n",
       "\n",
       "       currentVersionNumber hasCurrentVersionNumber usabilityRating  \\\n",
       "23918                     2                    True        0.176471   \n",
       "32123                     1                    True        0.235294   \n",
       "87100                     1                    True        0.470588   \n",
       "71665                     1                    True        0.117647   \n",
       "29448                     1                    True        0.250000   \n",
       "55623                     1                    True        0.176471   \n",
       "6103                      1                    True        0.187500   \n",
       "50543                     1                    True        0.352941   \n",
       "67839                     3                    True        0.125000   \n",
       "54096                     1                    True        0.941176   \n",
       "\n",
       "       hasUsabilityRating                                               tags  \\\n",
       "23918                True                                                 []   \n",
       "32123                True                           [arts and entertainment]   \n",
       "87100                True  [automobiles and vehicles, computer vision, cl...   \n",
       "71665                True                                                 []   \n",
       "29448                True                                                 []   \n",
       "55623                True                                                 []   \n",
       "6103                 True                                                 []   \n",
       "50543                True                                                 []   \n",
       "67839                True                                                 []   \n",
       "54096                True         [arts and entertainment, earth and nature]   \n",
       "\n",
       "       files versions   size  \n",
       "23918     []       []  370GB  \n",
       "32123     []       []  100GB  \n",
       "87100     []       []  100GB  \n",
       "71665     []       []   98GB  \n",
       "29448     []       []   97GB  \n",
       "55623     []       []   95GB  \n",
       "6103      []       []   90GB  \n",
       "50543     []       []   90GB  \n",
       "67839     []       []   88GB  \n",
       "54096     []       []   87GB  \n",
       "\n",
       "[10 rows x 50 columns]"
      ]
     },
     "execution_count": 41,
     "metadata": {},
     "output_type": "execute_result"
    }
   ],
   "source": [
    "profiles.sort_values(\"totalBytes\", ascending=False).head(10)"
   ]
  },
  {
   "cell_type": "code",
   "execution_count": 7,
   "metadata": {},
   "outputs": [],
   "source": [
    "profiles[\"totalBytesGB\"] = profiles.totalBytes / 1024**3"
   ]
  },
  {
   "cell_type": "code",
   "execution_count": 9,
   "metadata": {},
   "outputs": [],
   "source": [
    "profiles.to_csv(\"../data/kaggle_metadata.csv\", index=False)"
   ]
  },
  {
   "cell_type": "code",
   "execution_count": 45,
   "metadata": {},
   "outputs": [
    {
     "data": {
      "text/plain": [
       "array(['5MB', '141MB', '554MB', ..., '282B', '154B', '899B'], dtype=object)"
      ]
     },
     "execution_count": 45,
     "metadata": {},
     "output_type": "execute_result"
    }
   ],
   "source": [
    "profiles[\"size\"].unique()"
   ]
  },
  {
   "cell_type": "code",
   "execution_count": 8,
   "metadata": {},
   "outputs": [
    {
     "data": {
      "text/plain": [
       "count    138388.000000\n",
       "mean          0.530633\n",
       "std           3.254596\n",
       "min           0.000000\n",
       "25%           0.000020\n",
       "50%           0.000474\n",
       "75%           0.020903\n",
       "max         370.390225\n",
       "Name: totalBytesGB, dtype: float64"
      ]
     },
     "execution_count": 8,
     "metadata": {},
     "output_type": "execute_result"
    }
   ],
   "source": [
    "profiles.totalBytesGB.describe()"
   ]
  },
  {
   "cell_type": "code",
   "execution_count": 58,
   "metadata": {},
   "outputs": [
    {
     "data": {
      "text/plain": [
       "73433.20037208498"
      ]
     },
     "execution_count": 58,
     "metadata": {},
     "output_type": "execute_result"
    }
   ],
   "source": [
    "profiles[profiles.totalBytesGB <= 10000].totalBytesGB.sum()"
   ]
  },
  {
   "cell_type": "code",
   "execution_count": 49,
   "metadata": {},
   "outputs": [
    {
     "data": {
      "image/png": "[encoded data removed]",
      "text/plain": [
       "<Figure size 640x480 with 1 Axes>"
      ]
     },
     "metadata": {},
     "output_type": "display_data"
    }
   ],
   "source": [
    "ax = profiles.totalBytesGB.hist()\n",
    "ax.set_xscale(\"log\")\n",
    "ax.set_yscale(\"log\")"
   ]
  },
  {
   "cell_type": "code",
   "execution_count": 26,
   "metadata": {},
   "outputs": [
    {
     "data": {
      "text/plain": [
       "{'subtitleNullable': 'Explore global research practices and opinions on scholarly communication',\n",
       " 'creatorNameNullable': 'Timo Bozsolik',\n",
       " 'creatorUrlNullable': 'timoboz',\n",
       " 'totalBytesNullable': 4828860,\n",
       " 'urlNullable': 'https://www.kaggle.com/datasets/bmkramer/101-innovations-research-tools-survey',\n",
       " 'licenseNameNullable': 'CC0: Public Domain',\n",
       " 'descriptionNullable': None,\n",
       " 'ownerNameNullable': 'Bianca Kramer',\n",
       " 'ownerRefNullable': 'bmkramer',\n",
       " 'titleNullable': '101 Innovations - Research Tools Survey',\n",
       " 'currentVersionNumberNullable': 2,\n",
       " 'usabilityRatingNullable': 0.7647059,\n",
       " 'id': 39,\n",
       " 'ref': 'bmkramer/101-innovations-research-tools-survey',\n",
       " 'subtitle': 'Explore global research practices and opinions on scholarly communication',\n",
       " 'hasSubtitle': True,\n",
       " 'creatorName': 'Timo Bozsolik',\n",
       " 'hasCreatorName': True,\n",
       " 'creatorUrl': 'timoboz',\n",
       " 'hasCreatorUrl': True,\n",
       " 'totalBytes': 4828860,\n",
       " 'hasTotalBytes': True,\n",
       " 'url': 'https://www.kaggle.com/datasets/bmkramer/101-innovations-research-tools-survey',\n",
       " 'hasUrl': True,\n",
       " 'lastUpdated': datetime.datetime(2019, 11, 17, 23, 25, 7),\n",
       " 'downloadCount': 1624,\n",
       " 'isPrivate': False,\n",
       " 'isFeatured': False,\n",
       " 'licenseName': 'CC0: Public Domain',\n",
       " 'hasLicenseName': True,\n",
       " 'description': '',\n",
       " 'hasDescription': False,\n",
       " 'ownerName': 'Bianca Kramer',\n",
       " 'hasOwnerName': True,\n",
       " 'ownerRef': 'bmkramer',\n",
       " 'hasOwnerRef': True,\n",
       " 'kernelCount': 18,\n",
       " 'title': '101 Innovations - Research Tools Survey',\n",
       " 'hasTitle': True,\n",
       " 'topicCount': 0,\n",
       " 'viewCount': 32509,\n",
       " 'voteCount': 40,\n",
       " 'currentVersionNumber': 2,\n",
       " 'hasCurrentVersionNumber': True,\n",
       " 'usabilityRating': 0.7647059,\n",
       " 'hasUsabilityRating': True,\n",
       " 'tags': [research, arts and entertainment, business, education],\n",
       " 'files': [],\n",
       " 'versions': [],\n",
       " 'size': '5MB'}"
      ]
     },
     "execution_count": 26,
     "metadata": {},
     "output_type": "execute_result"
    }
   ],
   "source": [
    "md[0].__dict__"
   ]
  },
  {
   "cell_type": "code",
   "execution_count": 18,
   "metadata": {},
   "outputs": [],
   "source": [
    "with open(\"../data/kaggle_metadata.pkl\", \"wb\") as f:\n",
    "    pickle.dump(md, f)"
   ]
  },
  {
   "cell_type": "markdown",
   "metadata": {},
   "source": [
    "## List of all Kaggle Datasets"
   ]
  },
  {
   "cell_type": "markdown",
   "metadata": {},
   "source": [
    "Download the tables `Datasets`, `DatasetVersions`, and `Users` from the [Meta Kaggle](https://www.kaggle.com/datasets/kaggle/meta-kaggle) dataset."
   ]
  },
  {
   "cell_type": "code",
   "execution_count": 34,
   "metadata": {},
   "outputs": [
    {
     "name": "stdout",
     "output_type": "stream",
     "text": [
      "<class 'pandas.core.frame.DataFrame'>\n",
      "RangeIndex: 312769 entries, 0 to 312768\n",
      "Data columns (total 4 columns):\n",
      " #   Column                   Non-Null Count   Dtype\n",
      "---  ------                   --------------   -----\n",
      " 0   DatasetId                312769 non-null  int64\n",
      " 1   CreatorUserId            312769 non-null  int64\n",
      " 2   OwnerUserId              310449 non-null  Int64\n",
      " 3   CurrentDatasetVersionId  312664 non-null  Int64\n",
      "dtypes: Int64(2), int64(2)\n",
      "memory usage: 10.1 MB\n"
     ]
    }
   ],
   "source": [
    "username_slug = pd.read_csv(\n",
    "    \"../data/Datasets.csv\",\n",
    "    dtype={\"CurrentDatasetVersionId\": \"Int64\", \"OwnerUserId\": \"Int64\"},\n",
    ")\n",
    "username_slug = username_slug[\n",
    "    [\"Id\", \"CreatorUserId\", \"OwnerUserId\", \"CurrentDatasetVersionId\"]\n",
    "]\n",
    "username_slug = username_slug.rename(columns={\"Id\": \"DatasetId\"})\n",
    "username_slug.info()"
   ]
  },
  {
   "cell_type": "code",
   "execution_count": 38,
   "metadata": {},
   "outputs": [
    {
     "name": "stdout",
     "output_type": "stream",
     "text": [
      "<class 'pandas.core.frame.DataFrame'>\n",
      "RangeIndex: 1054141 entries, 0 to 1054140\n",
      "Data columns (total 4 columns):\n",
      " #   Column            Non-Null Count    Dtype  \n",
      "---  ------            --------------    -----  \n",
      " 0   DatasetVersionId  1054141 non-null  int64  \n",
      " 1   CreatorUserId     1054141 non-null  int64  \n",
      " 2   VersionNumber     980122 non-null   float64\n",
      " 3   Slug              1054141 non-null  object \n",
      "dtypes: float64(1), int64(2), object(1)\n",
      "memory usage: 32.2+ MB\n"
     ]
    }
   ],
   "source": [
    "dataset_versions = pd.read_csv(\"../data/DatasetVersions.csv\")\n",
    "dataset_versions = dataset_versions[[\"Id\", \"CreatorUserId\", \"VersionNumber\", \"Slug\"]]\n",
    "dataset_versions = dataset_versions.rename(columns={\"Id\": \"DatasetVersionId\"})\n",
    "dataset_versions.info()"
   ]
  },
  {
   "cell_type": "code",
   "execution_count": 52,
   "metadata": {},
   "outputs": [
    {
     "name": "stdout",
     "output_type": "stream",
     "text": [
      "<class 'pandas.core.frame.DataFrame'>\n",
      "RangeIndex: 17553389 entries, 0 to 17553388\n",
      "Data columns (total 2 columns):\n",
      " #   Column    Dtype \n",
      "---  ------    ----- \n",
      " 0   UserId    int64 \n",
      " 1   UserName  object\n",
      "dtypes: int64(1), object(1)\n",
      "memory usage: 267.8+ MB\n"
     ]
    }
   ],
   "source": [
    "users = pd.read_csv(\"../data/Users.csv\")\n",
    "users = users[[\"Id\", \"UserName\"]]\n",
    "users = users.rename(columns={\"Id\": \"UserId\"})\n",
    "users.info()"
   ]
  },
  {
   "cell_type": "code",
   "execution_count": 55,
   "metadata": {},
   "outputs": [
    {
     "name": "stdout",
     "output_type": "stream",
     "text": [
      "<class 'pandas.core.frame.DataFrame'>\n",
      "Index: 301969 entries, 4 to 312768\n",
      "Data columns (total 10 columns):\n",
      " #   Column                   Non-Null Count   Dtype  \n",
      "---  ------                   --------------   -----  \n",
      " 0   DatasetId                301969 non-null  int64  \n",
      " 1   CreatorUserId_x          301969 non-null  int64  \n",
      " 2   OwnerUserId              301969 non-null  Int64  \n",
      " 3   CurrentDatasetVersionId  301969 non-null  Int64  \n",
      " 4   DatasetVersionId         301969 non-null  float64\n",
      " 5   CreatorUserId_y          301969 non-null  float64\n",
      " 6   VersionNumber            301783 non-null  float64\n",
      " 7   Slug                     301969 non-null  object \n",
      " 8   UserId                   301969 non-null  float64\n",
      " 9   UserName                 301969 non-null  object \n",
      "dtypes: Int64(2), float64(4), int64(2), object(2)\n",
      "memory usage: 25.9+ MB\n"
     ]
    }
   ],
   "source": [
    "merged = username_slug.merge(\n",
    "    dataset_versions,\n",
    "    how=\"left\",\n",
    "    left_on=[\"CurrentDatasetVersionId\"],\n",
    "    right_on=[\"DatasetVersionId\"],\n",
    ").merge(\n",
    "    users,\n",
    "    how=\"left\",\n",
    "    left_on=\"OwnerUserId\",\n",
    "    right_on=\"UserId\",\n",
    ")\n",
    "merged.dropna(subset=[\"UserName\", \"Slug\"], inplace=True)\n",
    "merged.info()"
   ]
  },
  {
   "cell_type": "code",
   "execution_count": 56,
   "metadata": {},
   "outputs": [],
   "source": [
    "merged[[\"UserName\", \"Slug\"]].to_csv(\"../data/username_slug.csv\", index=False)"
   ]
  },
  {
   "cell_type": "markdown",
   "metadata": {},
   "source": [
    "## Gather dataset metadata"
   ]
  },
  {
   "cell_type": "code",
   "execution_count": 57,
   "metadata": {},
   "outputs": [],
   "source": [
    "username_slug = pd.read_csv(\"../data/username_slug.csv\")"
   ]
  },
  {
   "cell_type": "code",
   "execution_count": null,
   "metadata": {},
   "outputs": [],
   "source": [
    "metadata = []\n",
    "errors = []\n",
    "for user in tqdm.tqdm(username_slug[\"UserName\"].unique()):\n",
    "    try:\n",
    "        page = 1\n",
    "        while True:\n",
    "            results = kaggle.api.dataset_list(\n",
    "                sort_by=\"hottest\",\n",
    "                file_type=\"csv\",\n",
    "                license_name=\"all\",\n",
    "                user=user,\n",
    "                page=page,\n",
    "            )\n",
    "            if results:\n",
    "                metadata.extend(results)\n",
    "            if len(results) < 10:\n",
    "                break\n",
    "\n",
    "            page += 1\n",
    "            if page > 500:\n",
    "                print(\n",
    "                    f\"User {user} has more than 10000 datasets. The API won't show all of them.\"\n",
    "                )\n",
    "\n",
    "            time.sleep(0.01)\n",
    "    except Exception as e:\n",
    "        errors.append((user, e))\n",
    "\n",
    "with open(\"../data/metadata.pkl\", \"wb\") as file:\n",
    "    pickle.dump(metadata, file)"
   ]
  },
  {
   "cell_type": "markdown",
   "metadata": {},
   "source": [
    "## Kaggle API"
   ]
  },
  {
   "cell_type": "code",
   "execution_count": null,
   "metadata": {},
   "outputs": [],
   "source": [
    "kaggle.api.dataset_list()\n",
    "kaggle.api.dataset_list_files()\n",
    "kaggle.api.dataset_download_files()\n",
    "kaggle.api.dataset_metadata()\n",
    "kaggle.api.dataset_status()"
   ]
  }
 ],
 "metadata": {
  "kernelspec": {
   "display_name": "venv",
   "language": "python",
   "name": "python3"
  },
  "language_info": {
   "codemirror_mode": {
    "name": "ipython",
    "version": 3
   },
   "file_extension": ".py",
   "mimetype": "text/x-python",
   "name": "python",
   "nbconvert_exporter": "python",
   "pygments_lexer": "ipython3",
   "version": "3.12.7"
  }
 },
 "nbformat": 4,
 "nbformat_minor": 2
}
